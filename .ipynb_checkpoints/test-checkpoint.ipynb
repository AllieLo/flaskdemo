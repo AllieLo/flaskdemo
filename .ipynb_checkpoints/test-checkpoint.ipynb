{
 "cells": [
  {
   "cell_type": "code",
   "execution_count": 1,
   "metadata": {},
   "outputs": [],
   "source": [
    "import requests"
   ]
  },
  {
   "cell_type": "code",
   "execution_count": 2,
   "metadata": {},
   "outputs": [],
   "source": [
    "url='https://data.epa.gov.tw/api/v2/aqx_p_02?api_key=e8dd42e6-9b8b-43f8-991e-b3dee723a52d&limit=1000&sort=datacreationdate%20desc&format=JSON'"
   ]
  },
  {
   "cell_type": "code",
   "execution_count": 3,
   "metadata": {},
   "outputs": [
    {
     "data": {
      "text/plain": [
       "<Response [200]>"
      ]
     },
     "execution_count": 3,
     "metadata": {},
     "output_type": "execute_result"
    }
   ],
   "source": [
    "resp=requests.get(url)\n",
    "resp\n"
   ]
  },
  {
   "cell_type": "markdown",
   "metadata": {},
   "source": [
    "### 取得資料所在位置"
   ]
  },
  {
   "cell_type": "code",
   "execution_count": 4,
   "metadata": {},
   "outputs": [
    {
     "data": {
      "text/plain": [
       "[{'site': '大城',\n",
       "  'county': '彰化縣',\n",
       "  'pm25': '5',\n",
       "  'datacreationdate': '2023-04-20 19:00',\n",
       "  'itemunit': 'μg/m3'},\n",
       " {'site': '富貴角',\n",
       "  'county': '新北市',\n",
       "  'pm25': '6',\n",
       "  'datacreationdate': '2023-04-20 19:00',\n",
       "  'itemunit': 'μg/m3'},\n",
       " {'site': '麥寮',\n",
       "  'county': '雲林縣',\n",
       "  'pm25': '10',\n",
       "  'datacreationdate': '2023-04-20 19:00',\n",
       "  'itemunit': 'μg/m3'},\n",
       " {'site': '關山',\n",
       "  'county': '臺東縣',\n",
       "  'pm25': '10',\n",
       "  'datacreationdate': '2023-04-20 19:00',\n",
       "  'itemunit': 'μg/m3'},\n",
       " {'site': '馬公',\n",
       "  'county': '澎湖縣',\n",
       "  'pm25': '10',\n",
       "  'datacreationdate': '2023-04-20 19:00',\n",
       "  'itemunit': 'μg/m3'},\n",
       " {'site': '金門',\n",
       "  'county': '金門縣',\n",
       "  'pm25': '7',\n",
       "  'datacreationdate': '2023-04-20 19:00',\n",
       "  'itemunit': 'μg/m3'},\n",
       " {'site': '馬祖',\n",
       "  'county': '連江縣',\n",
       "  'pm25': '12',\n",
       "  'datacreationdate': '2023-04-20 19:00',\n",
       "  'itemunit': 'μg/m3'},\n",
       " {'site': '埔里',\n",
       "  'county': '南投縣',\n",
       "  'pm25': '13',\n",
       "  'datacreationdate': '2023-04-20 19:00',\n",
       "  'itemunit': 'μg/m3'},\n",
       " {'site': '復興',\n",
       "  'county': '高雄市',\n",
       "  'pm25': '16',\n",
       "  'datacreationdate': '2023-04-20 19:00',\n",
       "  'itemunit': 'μg/m3'},\n",
       " {'site': '永和',\n",
       "  'county': '新北市',\n",
       "  'pm25': '15',\n",
       "  'datacreationdate': '2023-04-20 19:00',\n",
       "  'itemunit': 'μg/m3'},\n",
       " {'site': '竹山',\n",
       "  'county': '南投縣',\n",
       "  'pm25': '13',\n",
       "  'datacreationdate': '2023-04-20 19:00',\n",
       "  'itemunit': 'μg/m3'},\n",
       " {'site': '中壢',\n",
       "  'county': '桃園市',\n",
       "  'pm25': '11',\n",
       "  'datacreationdate': '2023-04-20 19:00',\n",
       "  'itemunit': 'μg/m3'},\n",
       " {'site': '三重',\n",
       "  'county': '新北市',\n",
       "  'pm25': '15',\n",
       "  'datacreationdate': '2023-04-20 19:00',\n",
       "  'itemunit': 'μg/m3'},\n",
       " {'site': '冬山',\n",
       "  'county': '宜蘭縣',\n",
       "  'pm25': '10',\n",
       "  'datacreationdate': '2023-04-20 19:00',\n",
       "  'itemunit': 'μg/m3'},\n",
       " {'site': '宜蘭',\n",
       "  'county': '宜蘭縣',\n",
       "  'pm25': '9',\n",
       "  'datacreationdate': '2023-04-20 19:00',\n",
       "  'itemunit': 'μg/m3'},\n",
       " {'site': '陽明',\n",
       "  'county': '臺北市',\n",
       "  'pm25': '6',\n",
       "  'datacreationdate': '2023-04-20 19:00',\n",
       "  'itemunit': 'μg/m3'},\n",
       " {'site': '花蓮',\n",
       "  'county': '花蓮縣',\n",
       "  'pm25': '9',\n",
       "  'datacreationdate': '2023-04-20 19:00',\n",
       "  'itemunit': 'μg/m3'},\n",
       " {'site': '臺東',\n",
       "  'county': '臺東縣',\n",
       "  'pm25': '',\n",
       "  'datacreationdate': '2023-04-20 19:00',\n",
       "  'itemunit': 'μg/m3'},\n",
       " {'site': '恆春',\n",
       "  'county': '屏東縣',\n",
       "  'pm25': '',\n",
       "  'datacreationdate': '2023-04-20 19:00',\n",
       "  'itemunit': 'μg/m3'},\n",
       " {'site': '潮州',\n",
       "  'county': '屏東縣',\n",
       "  'pm25': '12',\n",
       "  'datacreationdate': '2023-04-20 19:00',\n",
       "  'itemunit': 'μg/m3'},\n",
       " {'site': '屏東',\n",
       "  'county': '屏東縣',\n",
       "  'pm25': '15',\n",
       "  'datacreationdate': '2023-04-20 19:00',\n",
       "  'itemunit': 'μg/m3'},\n",
       " {'site': '小港',\n",
       "  'county': '高雄市',\n",
       "  'pm25': '15',\n",
       "  'datacreationdate': '2023-04-20 19:00',\n",
       "  'itemunit': 'μg/m3'},\n",
       " {'site': '前鎮',\n",
       "  'county': '高雄市',\n",
       "  'pm25': '16',\n",
       "  'datacreationdate': '2023-04-20 19:00',\n",
       "  'itemunit': 'μg/m3'},\n",
       " {'site': '前金',\n",
       "  'county': '高雄市',\n",
       "  'pm25': '20',\n",
       "  'datacreationdate': '2023-04-20 19:00',\n",
       "  'itemunit': 'μg/m3'},\n",
       " {'site': '左營',\n",
       "  'county': '高雄市',\n",
       "  'pm25': '12',\n",
       "  'datacreationdate': '2023-04-20 19:00',\n",
       "  'itemunit': 'μg/m3'},\n",
       " {'site': '楠梓',\n",
       "  'county': '高雄市',\n",
       "  'pm25': '10',\n",
       "  'datacreationdate': '2023-04-20 19:00',\n",
       "  'itemunit': 'μg/m3'},\n",
       " {'site': '林園',\n",
       "  'county': '高雄市',\n",
       "  'pm25': '13',\n",
       "  'datacreationdate': '2023-04-20 19:00',\n",
       "  'itemunit': 'μg/m3'},\n",
       " {'site': '大寮',\n",
       "  'county': '高雄市',\n",
       "  'pm25': '21',\n",
       "  'datacreationdate': '2023-04-20 19:00',\n",
       "  'itemunit': 'μg/m3'},\n",
       " {'site': '鳳山',\n",
       "  'county': '高雄市',\n",
       "  'pm25': '18',\n",
       "  'datacreationdate': '2023-04-20 19:00',\n",
       "  'itemunit': 'μg/m3'},\n",
       " {'site': '仁武',\n",
       "  'county': '高雄市',\n",
       "  'pm25': '14',\n",
       "  'datacreationdate': '2023-04-20 19:00',\n",
       "  'itemunit': 'μg/m3'},\n",
       " {'site': '橋頭',\n",
       "  'county': '高雄市',\n",
       "  'pm25': '14',\n",
       "  'datacreationdate': '2023-04-20 19:00',\n",
       "  'itemunit': 'μg/m3'},\n",
       " {'site': '美濃',\n",
       "  'county': '高雄市',\n",
       "  'pm25': '11',\n",
       "  'datacreationdate': '2023-04-20 19:00',\n",
       "  'itemunit': 'μg/m3'},\n",
       " {'site': '臺南',\n",
       "  'county': '臺南市',\n",
       "  'pm25': '18',\n",
       "  'datacreationdate': '2023-04-20 19:00',\n",
       "  'itemunit': 'μg/m3'},\n",
       " {'site': '安南',\n",
       "  'county': '臺南市',\n",
       "  'pm25': '21',\n",
       "  'datacreationdate': '2023-04-20 19:00',\n",
       "  'itemunit': 'μg/m3'},\n",
       " {'site': '善化',\n",
       "  'county': '臺南市',\n",
       "  'pm25': '8',\n",
       "  'datacreationdate': '2023-04-20 19:00',\n",
       "  'itemunit': 'μg/m3'},\n",
       " {'site': '新營',\n",
       "  'county': '臺南市',\n",
       "  'pm25': '10',\n",
       "  'datacreationdate': '2023-04-20 19:00',\n",
       "  'itemunit': 'μg/m3'},\n",
       " {'site': '嘉義',\n",
       "  'county': '嘉義市',\n",
       "  'pm25': '11',\n",
       "  'datacreationdate': '2023-04-20 19:00',\n",
       "  'itemunit': 'μg/m3'},\n",
       " {'site': '臺西',\n",
       "  'county': '雲林縣',\n",
       "  'pm25': '10',\n",
       "  'datacreationdate': '2023-04-20 19:00',\n",
       "  'itemunit': 'μg/m3'},\n",
       " {'site': '朴子',\n",
       "  'county': '嘉義縣',\n",
       "  'pm25': '10',\n",
       "  'datacreationdate': '2023-04-20 19:00',\n",
       "  'itemunit': 'μg/m3'},\n",
       " {'site': '新港',\n",
       "  'county': '嘉義縣',\n",
       "  'pm25': '15',\n",
       "  'datacreationdate': '2023-04-20 19:00',\n",
       "  'itemunit': 'μg/m3'},\n",
       " {'site': '崙背',\n",
       "  'county': '雲林縣',\n",
       "  'pm25': '12',\n",
       "  'datacreationdate': '2023-04-20 19:00',\n",
       "  'itemunit': 'μg/m3'},\n",
       " {'site': '斗六',\n",
       "  'county': '雲林縣',\n",
       "  'pm25': '10',\n",
       "  'datacreationdate': '2023-04-20 19:00',\n",
       "  'itemunit': 'μg/m3'},\n",
       " {'site': '南投',\n",
       "  'county': '南投縣',\n",
       "  'pm25': '16',\n",
       "  'datacreationdate': '2023-04-20 19:00',\n",
       "  'itemunit': 'μg/m3'},\n",
       " {'site': '二林',\n",
       "  'county': '彰化縣',\n",
       "  'pm25': '6',\n",
       "  'datacreationdate': '2023-04-20 19:00',\n",
       "  'itemunit': 'μg/m3'},\n",
       " {'site': '線西',\n",
       "  'county': '彰化縣',\n",
       "  'pm25': '22',\n",
       "  'datacreationdate': '2023-04-20 19:00',\n",
       "  'itemunit': 'μg/m3'},\n",
       " {'site': '彰化',\n",
       "  'county': '彰化縣',\n",
       "  'pm25': '17',\n",
       "  'datacreationdate': '2023-04-20 19:00',\n",
       "  'itemunit': 'μg/m3'},\n",
       " {'site': '西屯',\n",
       "  'county': '臺中市',\n",
       "  'pm25': '29',\n",
       "  'datacreationdate': '2023-04-20 19:00',\n",
       "  'itemunit': 'μg/m3'},\n",
       " {'site': '忠明',\n",
       "  'county': '臺中市',\n",
       "  'pm25': '22',\n",
       "  'datacreationdate': '2023-04-20 19:00',\n",
       "  'itemunit': 'μg/m3'},\n",
       " {'site': '大里',\n",
       "  'county': '臺中市',\n",
       "  'pm25': '20',\n",
       "  'datacreationdate': '2023-04-20 19:00',\n",
       "  'itemunit': 'μg/m3'},\n",
       " {'site': '沙鹿',\n",
       "  'county': '臺中市',\n",
       "  'pm25': '16',\n",
       "  'datacreationdate': '2023-04-20 19:00',\n",
       "  'itemunit': 'μg/m3'},\n",
       " {'site': '豐原',\n",
       "  'county': '臺中市',\n",
       "  'pm25': '14',\n",
       "  'datacreationdate': '2023-04-20 19:00',\n",
       "  'itemunit': 'μg/m3'},\n",
       " {'site': '三義',\n",
       "  'county': '苗栗縣',\n",
       "  'pm25': '17',\n",
       "  'datacreationdate': '2023-04-20 19:00',\n",
       "  'itemunit': 'μg/m3'},\n",
       " {'site': '苗栗',\n",
       "  'county': '苗栗縣',\n",
       "  'pm25': '22',\n",
       "  'datacreationdate': '2023-04-20 19:00',\n",
       "  'itemunit': 'μg/m3'},\n",
       " {'site': '頭份',\n",
       "  'county': '苗栗縣',\n",
       "  'pm25': '14',\n",
       "  'datacreationdate': '2023-04-20 19:00',\n",
       "  'itemunit': 'μg/m3'},\n",
       " {'site': '新竹',\n",
       "  'county': '新竹市',\n",
       "  'pm25': '18',\n",
       "  'datacreationdate': '2023-04-20 19:00',\n",
       "  'itemunit': 'μg/m3'},\n",
       " {'site': '竹東',\n",
       "  'county': '新竹縣',\n",
       "  'pm25': '8',\n",
       "  'datacreationdate': '2023-04-20 19:00',\n",
       "  'itemunit': 'μg/m3'},\n",
       " {'site': '湖口',\n",
       "  'county': '新竹縣',\n",
       "  'pm25': '9',\n",
       "  'datacreationdate': '2023-04-20 19:00',\n",
       "  'itemunit': 'μg/m3'},\n",
       " {'site': '龍潭',\n",
       "  'county': '桃園市',\n",
       "  'pm25': '16',\n",
       "  'datacreationdate': '2023-04-20 19:00',\n",
       "  'itemunit': 'μg/m3'},\n",
       " {'site': '平鎮',\n",
       "  'county': '桃園市',\n",
       "  'pm25': '6',\n",
       "  'datacreationdate': '2023-04-20 19:00',\n",
       "  'itemunit': 'μg/m3'},\n",
       " {'site': '觀音',\n",
       "  'county': '桃園市',\n",
       "  'pm25': '6',\n",
       "  'datacreationdate': '2023-04-20 19:00',\n",
       "  'itemunit': 'μg/m3'},\n",
       " {'site': '大園',\n",
       "  'county': '桃園市',\n",
       "  'pm25': '5',\n",
       "  'datacreationdate': '2023-04-20 19:00',\n",
       "  'itemunit': 'μg/m3'},\n",
       " {'site': '桃園',\n",
       "  'county': '桃園市',\n",
       "  'pm25': '11',\n",
       "  'datacreationdate': '2023-04-20 19:00',\n",
       "  'itemunit': 'μg/m3'},\n",
       " {'site': '大同',\n",
       "  'county': '臺北市',\n",
       "  'pm25': '15',\n",
       "  'datacreationdate': '2023-04-20 19:00',\n",
       "  'itemunit': 'μg/m3'},\n",
       " {'site': '松山',\n",
       "  'county': '臺北市',\n",
       "  'pm25': '13',\n",
       "  'datacreationdate': '2023-04-20 19:00',\n",
       "  'itemunit': 'μg/m3'},\n",
       " {'site': '古亭',\n",
       "  'county': '臺北市',\n",
       "  'pm25': '16',\n",
       "  'datacreationdate': '2023-04-20 19:00',\n",
       "  'itemunit': 'μg/m3'},\n",
       " {'site': '萬華',\n",
       "  'county': '臺北市',\n",
       "  'pm25': '14',\n",
       "  'datacreationdate': '2023-04-20 19:00',\n",
       "  'itemunit': 'μg/m3'},\n",
       " {'site': '中山',\n",
       "  'county': '臺北市',\n",
       "  'pm25': '13',\n",
       "  'datacreationdate': '2023-04-20 19:00',\n",
       "  'itemunit': 'μg/m3'},\n",
       " {'site': '士林',\n",
       "  'county': '臺北市',\n",
       "  'pm25': '7',\n",
       "  'datacreationdate': '2023-04-20 19:00',\n",
       "  'itemunit': 'μg/m3'},\n",
       " {'site': '淡水',\n",
       "  'county': '新北市',\n",
       "  'pm25': '9',\n",
       "  'datacreationdate': '2023-04-20 19:00',\n",
       "  'itemunit': 'μg/m3'},\n",
       " {'site': '菜寮',\n",
       "  'county': '新北市',\n",
       "  'pm25': '9',\n",
       "  'datacreationdate': '2023-04-20 19:00',\n",
       "  'itemunit': 'μg/m3'},\n",
       " {'site': '新莊',\n",
       "  'county': '新北市',\n",
       "  'pm25': '8',\n",
       "  'datacreationdate': '2023-04-20 19:00',\n",
       "  'itemunit': 'μg/m3'},\n",
       " {'site': '板橋',\n",
       "  'county': '新北市',\n",
       "  'pm25': '10',\n",
       "  'datacreationdate': '2023-04-20 19:00',\n",
       "  'itemunit': 'μg/m3'},\n",
       " {'site': '土城',\n",
       "  'county': '新北市',\n",
       "  'pm25': '14',\n",
       "  'datacreationdate': '2023-04-20 19:00',\n",
       "  'itemunit': 'μg/m3'},\n",
       " {'site': '新店',\n",
       "  'county': '新北市',\n",
       "  'pm25': '13',\n",
       "  'datacreationdate': '2023-04-20 19:00',\n",
       "  'itemunit': 'μg/m3'},\n",
       " {'site': '萬里',\n",
       "  'county': '新北市',\n",
       "  'pm25': '7',\n",
       "  'datacreationdate': '2023-04-20 19:00',\n",
       "  'itemunit': 'μg/m3'},\n",
       " {'site': '汐止',\n",
       "  'county': '新北市',\n",
       "  'pm25': '15',\n",
       "  'datacreationdate': '2023-04-20 19:00',\n",
       "  'itemunit': 'μg/m3'},\n",
       " {'site': '基隆',\n",
       "  'county': '基隆市',\n",
       "  'pm25': '11',\n",
       "  'datacreationdate': '2023-04-20 19:00',\n",
       "  'itemunit': 'μg/m3'}]"
      ]
     },
     "execution_count": 4,
     "metadata": {},
     "output_type": "execute_result"
    }
   ],
   "source": [
    "datas=resp.json()['records']\n",
    "datas\n"
   ]
  },
  {
   "cell_type": "code",
   "execution_count": 6,
   "metadata": {},
   "outputs": [
    {
     "data": {
      "text/plain": [
       "77"
      ]
     },
     "execution_count": 6,
     "metadata": {},
     "output_type": "execute_result"
    }
   ],
   "source": [
    "len(datas)"
   ]
  },
  {
   "cell_type": "code",
   "execution_count": 7,
   "metadata": {},
   "outputs": [
    {
     "data": {
      "text/plain": [
       "{'site': '大城',\n",
       " 'county': '彰化縣',\n",
       " 'pm25': '5',\n",
       " 'datacreationdate': '2023-04-20 19:00',\n",
       " 'itemunit': 'μg/m3'}"
      ]
     },
     "execution_count": 7,
     "metadata": {},
     "output_type": "execute_result"
    }
   ],
   "source": [
    "datas[0]"
   ]
  },
  {
   "cell_type": "markdown",
   "metadata": {},
   "source": [
    "### 建立資料庫  \n",
    "- 1.創建資料庫\n",
    "- 2.建立資料表\n",
    "- 3.寫入不重複資料\n",
    "- 4.取最新數據"
   ]
  },
  {
   "cell_type": "code",
   "execution_count": 8,
   "metadata": {},
   "outputs": [],
   "source": [
    "import sqlite3"
   ]
  },
  {
   "cell_type": "code",
   "execution_count": 10,
   "metadata": {},
   "outputs": [
    {
     "data": {
      "text/plain": [
       "(<sqlite3.Connection at 0x2aadf59a210>, <sqlite3.Cursor at 0x2aadfa88ce0>)"
      ]
     },
     "execution_count": 10,
     "metadata": {},
     "output_type": "execute_result"
    }
   ],
   "source": [
    "conn=sqlite3.connect('pm25.db')\n",
    "cursor=conn.cursor()\n",
    "\n",
    "conn,cursor"
   ]
  },
  {
   "cell_type": "code",
   "execution_count": 12,
   "metadata": {},
   "outputs": [
    {
     "data": {
      "text/plain": [
       "dict_keys(['site', 'county', 'pm25', 'datacreationdate', 'itemunit'])"
      ]
     },
     "execution_count": 12,
     "metadata": {},
     "output_type": "execute_result"
    }
   ],
   "source": [
    "datas[0].keys()"
   ]
  },
  {
   "cell_type": "code",
   "execution_count": 13,
   "metadata": {},
   "outputs": [],
   "source": [
    "sqlstr='''\n",
    "create table if not exists data(\n",
    "id integer primary key autoincrement,\n",
    "site text,\n",
    "county text,\n",
    "pm25 integer,\n",
    "datacreationdate datetime,\n",
    "itemunit text\n",
    ")\n",
    "\n",
    "'''\n",
    "cursor.execute(sqlstr)\n",
    "conn.commit()"
   ]
  },
  {
   "cell_type": "markdown",
   "metadata": {},
   "source": [
    "### 檢查資料是否存在"
   ]
  },
  {
   "cell_type": "code",
   "execution_count": 16,
   "metadata": {
    "collapsed": true
   },
   "outputs": [
    {
     "name": "stdout",
     "output_type": "stream",
     "text": [
      "unexpected EOF while parsing (<string>, line 0)\n",
      "unexpected EOF while parsing (<string>, line 0)\n"
     ]
    },
    {
     "data": {
      "text/plain": [
       "[['大城', '彰化縣', 5, '2023-04-20 19:00', 'μg/m3'],\n",
       " ['富貴角', '新北市', 6, '2023-04-20 19:00', 'μg/m3'],\n",
       " ['麥寮', '雲林縣', 10, '2023-04-20 19:00', 'μg/m3'],\n",
       " ['關山', '臺東縣', 10, '2023-04-20 19:00', 'μg/m3'],\n",
       " ['馬公', '澎湖縣', 10, '2023-04-20 19:00', 'μg/m3'],\n",
       " ['金門', '金門縣', 7, '2023-04-20 19:00', 'μg/m3'],\n",
       " ['馬祖', '連江縣', 12, '2023-04-20 19:00', 'μg/m3'],\n",
       " ['埔里', '南投縣', 13, '2023-04-20 19:00', 'μg/m3'],\n",
       " ['復興', '高雄市', 16, '2023-04-20 19:00', 'μg/m3'],\n",
       " ['永和', '新北市', 15, '2023-04-20 19:00', 'μg/m3'],\n",
       " ['竹山', '南投縣', 13, '2023-04-20 19:00', 'μg/m3'],\n",
       " ['中壢', '桃園市', 11, '2023-04-20 19:00', 'μg/m3'],\n",
       " ['三重', '新北市', 15, '2023-04-20 19:00', 'μg/m3'],\n",
       " ['冬山', '宜蘭縣', 10, '2023-04-20 19:00', 'μg/m3'],\n",
       " ['宜蘭', '宜蘭縣', 9, '2023-04-20 19:00', 'μg/m3'],\n",
       " ['陽明', '臺北市', 6, '2023-04-20 19:00', 'μg/m3'],\n",
       " ['花蓮', '花蓮縣', 9, '2023-04-20 19:00', 'μg/m3'],\n",
       " ['潮州', '屏東縣', 12, '2023-04-20 19:00', 'μg/m3'],\n",
       " ['屏東', '屏東縣', 15, '2023-04-20 19:00', 'μg/m3'],\n",
       " ['小港', '高雄市', 15, '2023-04-20 19:00', 'μg/m3'],\n",
       " ['前鎮', '高雄市', 16, '2023-04-20 19:00', 'μg/m3'],\n",
       " ['前金', '高雄市', 20, '2023-04-20 19:00', 'μg/m3'],\n",
       " ['左營', '高雄市', 12, '2023-04-20 19:00', 'μg/m3'],\n",
       " ['楠梓', '高雄市', 10, '2023-04-20 19:00', 'μg/m3'],\n",
       " ['林園', '高雄市', 13, '2023-04-20 19:00', 'μg/m3'],\n",
       " ['大寮', '高雄市', 21, '2023-04-20 19:00', 'μg/m3'],\n",
       " ['鳳山', '高雄市', 18, '2023-04-20 19:00', 'μg/m3'],\n",
       " ['仁武', '高雄市', 14, '2023-04-20 19:00', 'μg/m3'],\n",
       " ['橋頭', '高雄市', 14, '2023-04-20 19:00', 'μg/m3'],\n",
       " ['美濃', '高雄市', 11, '2023-04-20 19:00', 'μg/m3'],\n",
       " ['臺南', '臺南市', 18, '2023-04-20 19:00', 'μg/m3'],\n",
       " ['安南', '臺南市', 21, '2023-04-20 19:00', 'μg/m3'],\n",
       " ['善化', '臺南市', 8, '2023-04-20 19:00', 'μg/m3'],\n",
       " ['新營', '臺南市', 10, '2023-04-20 19:00', 'μg/m3'],\n",
       " ['嘉義', '嘉義市', 11, '2023-04-20 19:00', 'μg/m3'],\n",
       " ['臺西', '雲林縣', 10, '2023-04-20 19:00', 'μg/m3'],\n",
       " ['朴子', '嘉義縣', 10, '2023-04-20 19:00', 'μg/m3'],\n",
       " ['新港', '嘉義縣', 15, '2023-04-20 19:00', 'μg/m3'],\n",
       " ['崙背', '雲林縣', 12, '2023-04-20 19:00', 'μg/m3'],\n",
       " ['斗六', '雲林縣', 10, '2023-04-20 19:00', 'μg/m3'],\n",
       " ['南投', '南投縣', 16, '2023-04-20 19:00', 'μg/m3'],\n",
       " ['二林', '彰化縣', 6, '2023-04-20 19:00', 'μg/m3'],\n",
       " ['線西', '彰化縣', 22, '2023-04-20 19:00', 'μg/m3'],\n",
       " ['彰化', '彰化縣', 17, '2023-04-20 19:00', 'μg/m3'],\n",
       " ['西屯', '臺中市', 29, '2023-04-20 19:00', 'μg/m3'],\n",
       " ['忠明', '臺中市', 22, '2023-04-20 19:00', 'μg/m3'],\n",
       " ['大里', '臺中市', 20, '2023-04-20 19:00', 'μg/m3'],\n",
       " ['沙鹿', '臺中市', 16, '2023-04-20 19:00', 'μg/m3'],\n",
       " ['豐原', '臺中市', 14, '2023-04-20 19:00', 'μg/m3'],\n",
       " ['三義', '苗栗縣', 17, '2023-04-20 19:00', 'μg/m3'],\n",
       " ['苗栗', '苗栗縣', 22, '2023-04-20 19:00', 'μg/m3'],\n",
       " ['頭份', '苗栗縣', 14, '2023-04-20 19:00', 'μg/m3'],\n",
       " ['新竹', '新竹市', 18, '2023-04-20 19:00', 'μg/m3'],\n",
       " ['竹東', '新竹縣', 8, '2023-04-20 19:00', 'μg/m3'],\n",
       " ['湖口', '新竹縣', 9, '2023-04-20 19:00', 'μg/m3'],\n",
       " ['龍潭', '桃園市', 16, '2023-04-20 19:00', 'μg/m3'],\n",
       " ['平鎮', '桃園市', 6, '2023-04-20 19:00', 'μg/m3'],\n",
       " ['觀音', '桃園市', 6, '2023-04-20 19:00', 'μg/m3'],\n",
       " ['大園', '桃園市', 5, '2023-04-20 19:00', 'μg/m3'],\n",
       " ['桃園', '桃園市', 11, '2023-04-20 19:00', 'μg/m3'],\n",
       " ['大同', '臺北市', 15, '2023-04-20 19:00', 'μg/m3'],\n",
       " ['松山', '臺北市', 13, '2023-04-20 19:00', 'μg/m3'],\n",
       " ['古亭', '臺北市', 16, '2023-04-20 19:00', 'μg/m3'],\n",
       " ['萬華', '臺北市', 14, '2023-04-20 19:00', 'μg/m3'],\n",
       " ['中山', '臺北市', 13, '2023-04-20 19:00', 'μg/m3'],\n",
       " ['士林', '臺北市', 7, '2023-04-20 19:00', 'μg/m3'],\n",
       " ['淡水', '新北市', 9, '2023-04-20 19:00', 'μg/m3'],\n",
       " ['菜寮', '新北市', 9, '2023-04-20 19:00', 'μg/m3'],\n",
       " ['新莊', '新北市', 8, '2023-04-20 19:00', 'μg/m3'],\n",
       " ['板橋', '新北市', 10, '2023-04-20 19:00', 'μg/m3'],\n",
       " ['土城', '新北市', 14, '2023-04-20 19:00', 'μg/m3'],\n",
       " ['新店', '新北市', 13, '2023-04-20 19:00', 'μg/m3'],\n",
       " ['萬里', '新北市', 7, '2023-04-20 19:00', 'μg/m3'],\n",
       " ['汐止', '新北市', 15, '2023-04-20 19:00', 'μg/m3'],\n",
       " ['基隆', '基隆市', 11, '2023-04-20 19:00', 'μg/m3']]"
      ]
     },
     "execution_count": 16,
     "metadata": {},
     "output_type": "execute_result"
    }
   ],
   "source": [
    "# 組合內容\n",
    "values = []\n",
    "for data in datas:\n",
    "    data = list(data.values())\n",
    "    try:\n",
    "        data[2] = eval(data[2])\n",
    "        values.append(data)\n",
    "    except Exception as e:\n",
    "        print(e)\n",
    "values"
   ]
  },
  {
   "cell_type": "code",
   "execution_count": 19,
   "metadata": {},
   "outputs": [
    {
     "data": {
      "text/plain": [
       "'select * from data where site=\"基隆\" and datacreationdate=\"2023-04-20 19:00\"'"
      ]
     },
     "execution_count": 19,
     "metadata": {},
     "output_type": "execute_result"
    }
   ],
   "source": [
    "sqlstr=f'select * from data where site=\"{data[0]}\" and datacreationdate=\"{data[-2]}\"'\n",
    "sqlstr"
   ]
  },
  {
   "cell_type": "code",
   "execution_count": 20,
   "metadata": {
    "scrolled": true
   },
   "outputs": [
    {
     "data": {
      "text/plain": [
       "[]"
      ]
     },
     "execution_count": 20,
     "metadata": {},
     "output_type": "execute_result"
    }
   ],
   "source": [
    "list(cursor.execute(sqlstr))"
   ]
  },
  {
   "cell_type": "code",
   "execution_count": 27,
   "metadata": {},
   "outputs": [
    {
     "data": {
      "text/plain": [
       "'insert into data(site,county,pm25,datacreationdate,itemunit) values(\"基隆\",\"基隆市\",    11,\"2023-04-20 19:00\",\"μg/m3\")'"
      ]
     },
     "execution_count": 27,
     "metadata": {},
     "output_type": "execute_result"
    }
   ],
   "source": [
    "sqlstr=f'insert into data(site,county,pm25,datacreationdate,itemunit) values(\"{data[0]}\",\"{data[1]}\",\\\n",
    "    {data[2]},\"{data[3]}\",\"{data[4]}\")'\n",
    "sqlstr"
   ]
  },
  {
   "cell_type": "markdown",
   "metadata": {},
   "source": [
    "### 寫入資料"
   ]
  },
  {
   "cell_type": "code",
   "execution_count": 28,
   "metadata": {},
   "outputs": [
    {
     "name": "stdout",
     "output_type": "stream",
     "text": [
      "unexpected EOF while parsing (<string>, line 0)\n",
      "unexpected EOF while parsing (<string>, line 0)\n",
      "更新:0筆資料.\n"
     ]
    }
   ],
   "source": [
    "# 組合內容\n",
    "count=0\n",
    "for data in datas:\n",
    "    data = list(data.values())\n",
    "    try:\n",
    "        data[2] = eval(data[2])\n",
    "        sqlstr=f'select * from data where site=\"{data[0]}\" and datacreationdate=\"{data[-2]}\"'\n",
    "        result=list(cursor.execute(sqlstr))    \n",
    "        if result==[]:\n",
    "            sqlstr=f'insert into data(site,county,pm25,datacreationdate,itemunit) values(\"{data[0]}\",\"{data[1]}\",\\\n",
    "            {data[2]},\"{data[3]}\",\"{data[4]}\")'\n",
    "            cursor.execute(sqlstr)\n",
    "            count+=1\n",
    "    except Exception as e:\n",
    "        print(e)  \n",
    "        \n",
    "conn.commit()\n",
    "print(f'更新:{count}筆資料.')"
   ]
  },
  {
   "cell_type": "code",
   "execution_count": null,
   "metadata": {},
   "outputs": [],
   "source": []
  }
 ],
 "metadata": {
  "kernelspec": {
   "display_name": "Python 3 (ipykernel)",
   "language": "python",
   "name": "python3"
  },
  "language_info": {
   "codemirror_mode": {
    "name": "ipython",
    "version": 3
   },
   "file_extension": ".py",
   "mimetype": "text/x-python",
   "name": "python",
   "nbconvert_exporter": "python",
   "pygments_lexer": "ipython3",
   "version": "3.9.13"
  }
 },
 "nbformat": 4,
 "nbformat_minor": 2
}
